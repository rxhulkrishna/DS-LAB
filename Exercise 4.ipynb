{
 "cells": [
  {
   "cell_type": "code",
   "execution_count": 2,
   "id": "d8159d3c-bf6a-4786-857e-15ffe9abd34c",
   "metadata": {},
   "outputs": [],
   "source": [
    "import pandas as pd"
   ]
  },
  {
   "cell_type": "code",
   "execution_count": 4,
   "id": "1cd0bee7-88b8-42ef-a72b-344847faa804",
   "metadata": {},
   "outputs": [
    {
     "name": "stdin",
     "output_type": "stream",
     "text": [
      "Enter list of elements :  hello hi world\n"
     ]
    },
    {
     "name": "stdout",
     "output_type": "stream",
     "text": [
      "0    hello\n",
      "1       hi\n",
      "2    world\n",
      "dtype: object\n"
     ]
    }
   ],
   "source": [
    "list = input(\"Enter list of elements : \").split(\" \")\n",
    "series = pd.Series(list)\n",
    "print(series)"
   ]
  },
  {
   "cell_type": "code",
   "execution_count": 10,
   "id": "636974df-40fa-4230-82a3-f35c18e53dcc",
   "metadata": {},
   "outputs": [
    {
     "name": "stdout",
     "output_type": "stream",
     "text": [
      "2021-05-02 00:00:00\n",
      "2021-05-03 00:00:00\n",
      "2021-05-04 00:00:00\n",
      "2021-05-05 00:00:00\n",
      "2021-05-06 00:00:00\n",
      "2021-05-07 00:00:00\n",
      "2021-05-08 00:00:00\n",
      "2021-05-09 00:00:00\n",
      "2021-05-10 00:00:00\n",
      "2021-05-11 00:00:00\n"
     ]
    }
   ],
   "source": [
    "dates = pd.date_range(start=\"2021-05-01\",end=\"2021-05-12\",inclusive=\"neither\")\n",
    "for date in dates:\n",
    "    print(date)"
   ]
  },
  {
   "cell_type": "code",
   "execution_count": 13,
   "id": "9c380f52-3d01-40e5-9e2c-831150a4e547",
   "metadata": {},
   "outputs": [
    {
     "name": "stdout",
     "output_type": "stream",
     "text": [
      "      Name  Age         City\n",
      "0    Alice   25     New York\n",
      "1      Bob   30  Los Angeles\n",
      "2  Charlie   35      Chicago\n"
     ]
    }
   ],
   "source": [
    "data = {'Name':[\"Alice\",\"Bob\",\"Charlie\"],'Age':[25,30,35],'City':[\"New York\",\"Los Angeles\",\"Chicago\"]}\n",
    "df = pd.DataFrame(data)\n",
    "print(df)"
   ]
  },
  {
   "cell_type": "code",
   "execution_count": 15,
   "id": "574c98ea-7023-48e8-bae8-1ca8c32afc8b",
   "metadata": {},
   "outputs": [
    {
     "name": "stdout",
     "output_type": "stream",
     "text": [
      "       Countries  gold_medals\n",
      "0  United States           45\n",
      "1  Great Britain           27\n",
      "2          China           24\n",
      "3         Russia           19\n",
      "4        Germany           17\n"
     ]
    }
   ],
   "source": [
    "df = pd.read_csv(\"medals.csv\")\n",
    "print(df)"
   ]
  },
  {
   "cell_type": "code",
   "execution_count": 21,
   "id": "3825d9c9-efc9-4012-8576-90a6783de824",
   "metadata": {},
   "outputs": [
    {
     "name": "stdout",
     "output_type": "stream",
     "text": [
      "      Name  Age         City\n",
      "2  Charlie   35      Chicago\n",
      "1      Bob   30  Los Angeles\n",
      "0    Alice   25     New York\n"
     ]
    }
   ],
   "source": [
    "data = {'Name':[\"Alice\",\"Bob\",\"Charlie\"],'Age':[25,30,35],'City':[\"New York\",\"Los Angeles\",\"Chicago\"]}\n",
    "df = pd.DataFrame(data)\n",
    "sorted_df = df.sort_values(by=['Age'], ascending=[False])\n",
    "print(sorted_df)"
   ]
  },
  {
   "cell_type": "code",
   "execution_count": 28,
   "id": "3de8c436-f512-438a-be41-64cf7a0defd2",
   "metadata": {},
   "outputs": [
    {
     "name": "stdout",
     "output_type": "stream",
     "text": [
      "    Name  Age      City\n",
      "0  Alice   25  New York\n"
     ]
    }
   ],
   "source": [
    "selectedRows = df.head(1)\n",
    "print(selectedRows)"
   ]
  },
  {
   "cell_type": "code",
   "execution_count": 35,
   "id": "f2d81c1f-0b7e-4019-8e23-f979c9c8a833",
   "metadata": {},
   "outputs": [
    {
     "name": "stdout",
     "output_type": "stream",
     "text": [
      "Occupation\n",
      "Accountant    12500.0\n",
      "Engineer      15000.0\n",
      "Lawyer        20000.0\n",
      "Teacher       42500.0\n",
      "Name: Salary, dtype: float64\n"
     ]
    }
   ],
   "source": [
    "df = pd.DataFrame({\n",
    "    'Name':['Abhay','Vishnu','Varun','Vivek','Nimil'],\n",
    "    'Occupation':['Teacher','Lawyer','Engineer','Teacher','Accountant'],\n",
    "    'Salary':[10000,20000,15000,75000,12500]\n",
    "})\n",
    "\n",
    "avgSalary = df.groupby('Occupation')['Salary'].mean()\n",
    "print(avgSalary)"
   ]
  },
  {
   "cell_type": "code",
   "execution_count": 38,
   "id": "f3af6d30-70a0-432d-b5ad-4c605959a476",
   "metadata": {},
   "outputs": [
    {
     "name": "stdout",
     "output_type": "stream",
     "text": [
      "   Numbers\n",
      "0      1.0\n",
      "1      2.0\n",
      "2      0.0\n",
      "3      4.0\n",
      "4      0.0\n"
     ]
    }
   ],
   "source": [
    "import numpy as np\n",
    "df = pd.DataFrame({'Numbers' : [1,2,np.nan,4,np.nan]})\n",
    "df.fillna(0,inplace=True)\n",
    "\n",
    "print(df)"
   ]
  },
  {
   "cell_type": "code",
   "execution_count": 46,
   "id": "1f421d03-07ea-4c35-9291-0c6cdaefdb3f",
   "metadata": {},
   "outputs": [
    {
     "name": "stdout",
     "output_type": "stream",
     "text": [
      "        CName  Profit\n",
      "0   Accenture     100\n",
      "1         IBM     200\n",
      "2         TCS     300\n",
      "3    Deloitte    -400\n",
      "4  Tata Elxsi     500\n",
      "\n",
      "\n",
      "        CName  Profit\n",
      "0   Accenture    True\n",
      "1         IBM    True\n",
      "2         TCS    True\n",
      "3    Deloitte   False\n",
      "4  Tata Elxsi    True\n"
     ]
    }
   ],
   "source": [
    "df = pd.DataFrame({\n",
    "    'CName':['Accenture','IBM','TCS','Deloitte','Tata Elxsi'],\n",
    "    'Profit':[100,200,300,-400,500]\n",
    "})\n",
    "\n",
    "print(df)\n",
    "print(\"\\n\")\n",
    "\n",
    "df['Profit'] = df['Profit'].apply(lambda x : True if x > 0 else False)\n",
    "print(df)"
   ]
  },
  {
   "cell_type": "code",
   "execution_count": 50,
   "id": "40603b07-521e-4491-a3a7-591b7aa7207e",
   "metadata": {},
   "outputs": [
    {
     "name": "stdout",
     "output_type": "stream",
     "text": [
      "   eid    ename  stipend  position\n",
      "0  101    Alice      500  Engineer\n",
      "1  102      Bob      600    Doctor\n",
      "2  103  Charlie      550       NaN\n",
      "3  104    David      700    Doctor\n"
     ]
    }
   ],
   "source": [
    "data1 = {\n",
    "    'eid' : [101,102,103,104],\n",
    "    'ename' : ['Alice','Bob','Charlie','David'],\n",
    "    'stipend' : [500,600,550,700]\n",
    "}\n",
    "\n",
    "data2 = {\n",
    "    'eid' : [101,102,104,105],\n",
    "    'designation' : ['Engineer', 'Doctor', 'Doctor', 'Teacher']\n",
    "}\n",
    "\n",
    "df1 = pd.DataFrame(data1)\n",
    "df2 = pd.DataFrame(data2)\n",
    "\n",
    "merged_df = pd.merge(df1,df2,on=\"eid\",how=\"left\")\n",
    "merged_df.rename(columns={'designation':'position'},inplace=True)\n",
    "print(merged_df)"
   ]
  }
 ],
 "metadata": {
  "kernelspec": {
   "display_name": "Python 3 (ipykernel)",
   "language": "python",
   "name": "python3"
  },
  "language_info": {
   "codemirror_mode": {
    "name": "ipython",
    "version": 3
   },
   "file_extension": ".py",
   "mimetype": "text/x-python",
   "name": "python",
   "nbconvert_exporter": "python",
   "pygments_lexer": "ipython3",
   "version": "3.10.8"
  }
 },
 "nbformat": 4,
 "nbformat_minor": 5
}
