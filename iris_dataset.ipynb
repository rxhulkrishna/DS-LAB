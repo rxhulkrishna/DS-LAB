{
 "cells": [
  {
   "cell_type": "code",
   "execution_count": 3,
   "id": "20749e51-cd04-40aa-8230-f9e062329a7f",
   "metadata": {},
   "outputs": [],
   "source": [
    "from sklearn import datasets\n",
    "from sklearn.neighbors import KNeighborsClassifier as knn\n",
    "from sklearn.model_selection import train_test_split\n",
    "from sklearn.metrics import accuracy_score"
   ]
  },
  {
   "cell_type": "code",
   "execution_count": 4,
   "id": "ddf97ec5-571b-416e-af85-cf513ffbfabf",
   "metadata": {},
   "outputs": [
    {
     "name": "stdout",
     "output_type": "stream",
     "text": [
      "Accuracy :  96.19047619047619\n"
     ]
    },
    {
     "name": "stdin",
     "output_type": "stream",
     "text": [
      "Enter values :  2 2 2 2\n"
     ]
    },
    {
     "name": "stdout",
     "output_type": "stream",
     "text": [
      "['setosa']\n"
     ]
    }
   ],
   "source": [
    "iris = datasets.load_iris()\n",
    "\n",
    "x = iris.data\n",
    "y = iris.target\n",
    "\n",
    "x_train,x_test,y_train,y_test = train_test_split(x,y,test_size=0.7)\n",
    "clf = knn(n_neighbors=3)\n",
    "clf.fit(x_train,y_train)\n",
    "\n",
    "ypred = clf.predict(x_test)\n",
    "accuracy = accuracy_score(y_test,ypred)*100\n",
    "print(\"Accuracy : \",accuracy)\n",
    "\n",
    "predict_input = input(\"Enter values : \").split(\" \")\n",
    "predict_input = [float(i) for i in predict_input]\n",
    "\n",
    "predict_output = clf.predict([predict_input])\n",
    "print(iris.target_names[predict_output])"
   ]
  }
 ],
 "metadata": {
  "kernelspec": {
   "display_name": "Python 3 (ipykernel)",
   "language": "python",
   "name": "python3"
  },
  "language_info": {
   "codemirror_mode": {
    "name": "ipython",
    "version": 3
   },
   "file_extension": ".py",
   "mimetype": "text/x-python",
   "name": "python",
   "nbconvert_exporter": "python",
   "pygments_lexer": "ipython3",
   "version": "3.10.8"
  }
 },
 "nbformat": 4,
 "nbformat_minor": 5
}
