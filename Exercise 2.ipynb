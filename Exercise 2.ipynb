{
 "cells": [
  {
   "cell_type": "code",
   "execution_count": 2,
   "id": "cf1d627d-bc25-44ec-8e1a-1a9193e47d3c",
   "metadata": {},
   "outputs": [],
   "source": [
    "import numpy as np"
   ]
  },
  {
   "cell_type": "code",
   "execution_count": 27,
   "id": "830beb44-7054-42f8-b0d3-997cbe90f608",
   "metadata": {},
   "outputs": [
    {
     "name": "stdout",
     "output_type": "stream",
     "text": [
      "[[ 31  45  55]\n",
      " [ 94 115 134]\n",
      " [ 47  62  73]]\n"
     ]
    }
   ],
   "source": [
    "a = np.array([[4,5,1],[2,9,8],[4,2,5]])\n",
    "b = np.array([[1,3,4],[4,5,6],[7,8,9]])\n",
    "\n",
    "print(np.dot(a,b))"
   ]
  },
  {
   "cell_type": "code",
   "execution_count": 28,
   "id": "085fd133-d2b3-40ff-902e-ae6edd6788af",
   "metadata": {},
   "outputs": [
    {
     "name": "stdout",
     "output_type": "stream",
     "text": [
      "Array 1 : \n",
      " [[4 2 4]\n",
      " [5 9 2]\n",
      " [1 8 5]]\n",
      "Array 2 : \n",
      " [[1 4 7]\n",
      " [3 5 8]\n",
      " [4 6 9]]\n"
     ]
    }
   ],
   "source": [
    "print(\"Array 1 : \\n\",np.transpose(a))\n",
    "print(\"Array 2 : \\n\",np.transpose(b))"
   ]
  },
  {
   "cell_type": "code",
   "execution_count": 29,
   "id": "6a846117-9f22-4f84-923d-790f52e01428",
   "metadata": {},
   "outputs": [
    {
     "name": "stdout",
     "output_type": "stream",
     "text": [
      "Trace A : \n",
      " 18\n",
      "Trace B : \n",
      " 15\n"
     ]
    }
   ],
   "source": [
    "print(\"Trace A : \\n\",np.trace(a))\n",
    "print(\"Trace B : \\n\",np.trace(b))"
   ]
  },
  {
   "cell_type": "code",
   "execution_count": 30,
   "id": "2d47698f-3ddf-405f-be18-49f6244e6cbf",
   "metadata": {},
   "outputs": [
    {
     "name": "stdout",
     "output_type": "stream",
     "text": [
      "Rank A : \n",
      " 3\n",
      "Rank B : \n",
      " 3\n"
     ]
    }
   ],
   "source": [
    "print(\"Rank A : \\n\",np.linalg.matrix_rank(a))\n",
    "print(\"Rank B : \\n\",np.linalg.matrix_rank(b))"
   ]
  },
  {
   "cell_type": "code",
   "execution_count": 31,
   "id": "c175c801-d706-44fd-b2ed-c724b4108df0",
   "metadata": {},
   "outputs": [
    {
     "name": "stdout",
     "output_type": "stream",
     "text": [
      "Determinant of A : \n",
      " 194\n",
      "Determinant of B : \n",
      " 3\n"
     ]
    }
   ],
   "source": [
    "print(\"Determinant of A : \\n\",int(np.linalg.det(a)))\n",
    "print(\"Determinant of B : \\n\",int(np.linalg.det(b)))"
   ]
  },
  {
   "cell_type": "code",
   "execution_count": 32,
   "id": "b0652362-ad32-495a-adbd-eab0eb6e5297",
   "metadata": {},
   "outputs": [
    {
     "name": "stdout",
     "output_type": "stream",
     "text": [
      "Inverse of A : \n",
      " [[ 0.14948454 -0.1185567   0.15979381]\n",
      " [ 0.11340206  0.08247423 -0.15463918]\n",
      " [-0.16494845  0.06185567  0.13402062]]\n",
      "Inverse of B : \n",
      " [[-1.          1.66666667 -0.66666667]\n",
      " [ 2.         -6.33333333  3.33333333]\n",
      " [-1.          4.33333333 -2.33333333]]\n"
     ]
    }
   ],
   "source": [
    "print(\"Inverse of A : \\n\",np.linalg.inv(a))\n",
    "print(\"Inverse of B : \\n\",np.linalg.inv(b))"
   ]
  },
  {
   "cell_type": "code",
   "execution_count": 39,
   "id": "772411b7-9fac-4d8a-b646-cbe2b5aa66a8",
   "metadata": {},
   "outputs": [
    {
     "name": "stdout",
     "output_type": "stream",
     "text": [
      "Eigen value of A : \n",
      " [13.89507705+0.j          2.05246147+3.12236789j  2.05246147-3.12236789j]\n",
      "Eigen vector of A : \n",
      " [[-0.44716502+0.j          0.63649912+0.j          0.63649912-0.j        ]\n",
      " [-0.80837792+0.j         -0.21416695+0.50125717j -0.21416695-0.50125717j]\n",
      " [-0.38284277+0.j         -0.1687718 -0.51890144j -0.1687718 +0.51890144j]]\n"
     ]
    }
   ],
   "source": [
    "print(\"Eigen value of A : \\n\",np.linalg.eig(a)[0])\n",
    "print(\"Eigen vector of A : \\n\",np.linalg.eig(a)[1])"
   ]
  },
  {
   "cell_type": "code",
   "execution_count": 40,
   "id": "671fd1b5-1a3a-4bd3-95cc-83c5fb1f94ce",
   "metadata": {},
   "outputs": [
    {
     "name": "stdout",
     "output_type": "stream",
     "text": [
      "Eigen value of B : \n",
      " [16.74279079 -1.63307009 -0.1097207 ]\n",
      "Eigen vector of B : \n",
      " [[-0.30193353 -0.84189509  0.21125621]\n",
      " [-0.5133138   0.0198902  -0.80917664]\n",
      " [-0.80333374  0.53927455  0.54827363]]\n"
     ]
    }
   ],
   "source": [
    "print(\"Eigen value of B : \\n\",np.linalg.eig(b)[0])\n",
    "print(\"Eigen vector of B : \\n\",np.linalg.eig(b)[1])"
   ]
  },
  {
   "cell_type": "code",
   "execution_count": null,
   "id": "5d8ef9dc-5fd6-4f9f-ae24-a6e487a82739",
   "metadata": {},
   "outputs": [],
   "source": []
  }
 ],
 "metadata": {
  "kernelspec": {
   "display_name": "Python 3 (ipykernel)",
   "language": "python",
   "name": "python3"
  },
  "language_info": {
   "codemirror_mode": {
    "name": "ipython",
    "version": 3
   },
   "file_extension": ".py",
   "mimetype": "text/x-python",
   "name": "python",
   "nbconvert_exporter": "python",
   "pygments_lexer": "ipython3",
   "version": "3.10.8"
  }
 },
 "nbformat": 4,
 "nbformat_minor": 5
}
