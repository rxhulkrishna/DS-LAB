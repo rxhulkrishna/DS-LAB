{
 "cells": [
  {
   "cell_type": "code",
   "execution_count": 2,
   "id": "21dd0f8d-67bb-419d-ba14-5a15675a17dd",
   "metadata": {},
   "outputs": [],
   "source": [
    "from sklearn import datasets\n",
    "from sklearn.naive_bayes import GaussianNB\n",
    "from sklearn.model_selection import train_test_split\n",
    "from sklearn.metrics import accuracy_score"
   ]
  },
  {
   "cell_type": "code",
   "execution_count": 39,
   "id": "2bdee63a-e7b0-4656-8010-383c40d81866",
   "metadata": {},
   "outputs": [
    {
     "name": "stdout",
     "output_type": "stream",
     "text": [
      "Accuracy score :  97.5\n"
     ]
    },
    {
     "name": "stdin",
     "output_type": "stream",
     "text": [
      "Enter ['sepal length (cm)', 'sepal width (cm)', 'petal length (cm)', 'petal width (cm)'] 2 2 2 2\n"
     ]
    },
    {
     "name": "stdout",
     "output_type": "stream",
     "text": [
      "['virginica']\n"
     ]
    }
   ],
   "source": [
    "iris = datasets.load_iris()\n",
    "x,y = iris.data,iris.target\n",
    "\n",
    "x_train,x_test,y_train,y_test = train_test_split(x,y,test_size=0.8)\n",
    "clf = GaussianNB()\n",
    "\n",
    "clf.fit(x_train,y_train)\n",
    "\n",
    "result = clf.predict(x_test)\n",
    "accuracy = accuracy_score(y_test,result) * 100\n",
    "print(\"Accuracy score : \",accuracy)\n",
    "\n",
    "predict_input = [[int(i) for i in input(f\"Enter {iris.feature_names}\").split()]]\n",
    "predict_output = clf.predict(predict_input)\n",
    "\n",
    "print(iris['target_names'][predict_output])"
   ]
  }
 ],
 "metadata": {
  "kernelspec": {
   "display_name": "Python 3 (ipykernel)",
   "language": "python",
   "name": "python3"
  },
  "language_info": {
   "codemirror_mode": {
    "name": "ipython",
    "version": 3
   },
   "file_extension": ".py",
   "mimetype": "text/x-python",
   "name": "python",
   "nbconvert_exporter": "python",
   "pygments_lexer": "ipython3",
   "version": "3.10.8"
  }
 },
 "nbformat": 4,
 "nbformat_minor": 5
}
