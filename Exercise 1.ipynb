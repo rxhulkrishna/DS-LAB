{
 "cells": [
  {
   "cell_type": "code",
   "execution_count": 1,
   "id": "4dadaf17-62a5-4bb6-84a8-0d8265249c49",
   "metadata": {},
   "outputs": [],
   "source": [
    "import numpy as np"
   ]
  },
  {
   "cell_type": "code",
   "execution_count": 15,
   "id": "5672dff5-740b-4a4d-9356-441e60d630b9",
   "metadata": {},
   "outputs": [
    {
     "name": "stdout",
     "output_type": "stream",
     "text": [
      "Array 1 :  [1 2]\n",
      "Array 2 :  [3 4]\n",
      "Greater :  [False False]\n",
      "Greater Equal :  [False False]\n",
      "Equal :  [False False]\n",
      "Array equal :  False\n"
     ]
    }
   ],
   "source": [
    "arr1 = np.array([1,2])\n",
    "arr2 = np.array([3,4])\n",
    "\n",
    "print(\"Array 1 : \", arr1)\n",
    "print(\"Array 2 : \", arr2)\n",
    "\n",
    "print(\"Greater : \", np.greater(arr1,arr2))\n",
    "print(\"Greater Equal : \", np.greater_equal(arr1,arr2))\n",
    "print(\"Equal : \", np.equal(arr1,arr2))\n",
    "print(\"Array equal : \", np.array_equal(arr1,arr2))"
   ]
  },
  {
   "cell_type": "code",
   "execution_count": 18,
   "id": "3b0700e1-4e2d-4427-ae94-58dd656b769c",
   "metadata": {},
   "outputs": [
    {
     "name": "stdout",
     "output_type": "stream",
     "text": [
      "[30 32 34 36 38 40 42 44 46 48 50 52 54 56 58 60 62 64 66 68 70]\n"
     ]
    }
   ],
   "source": [
    "new_array = np.arange(30,71,2)\n",
    "print(new_array)"
   ]
  },
  {
   "cell_type": "code",
   "execution_count": 27,
   "id": "bb1b285c-0517-440f-9d93-c66c0ba45b61",
   "metadata": {},
   "outputs": [
    {
     "name": "stdout",
     "output_type": "stream",
     "text": [
      "[[1 0 0]\n",
      " [0 1 0]\n",
      " [0 0 1]]\n"
     ]
    }
   ],
   "source": [
    "id = np.identity(3,dtype=int)\n",
    "print(id)"
   ]
  },
  {
   "cell_type": "code",
   "execution_count": 32,
   "id": "6b663839-67d1-442a-88fd-a955179fb8cf",
   "metadata": {},
   "outputs": [
    {
     "name": "stdout",
     "output_type": "stream",
     "text": [
      "[  0   1   2   3   4   5   6   7   8  -9 -10 -11 -12 -13 -14 -15  16  17\n",
      "  18  19  20]\n"
     ]
    }
   ],
   "source": [
    "arr = np.arange(0,21)\n",
    "arr[9:16] *= -1\n",
    "print(arr)"
   ]
  },
  {
   "cell_type": "code",
   "execution_count": 42,
   "id": "36c4ef61-2a90-460c-bf63-b3df6bf7dcba",
   "metadata": {},
   "outputs": [
    {
     "name": "stdout",
     "output_type": "stream",
     "text": [
      "[[1. 0. 0. 0. 0.]\n",
      " [0. 2. 0. 0. 0.]\n",
      " [0. 0. 3. 0. 0.]\n",
      " [0. 0. 0. 4. 0.]\n",
      " [0. 0. 0. 0. 5.]]\n"
     ]
    }
   ],
   "source": [
    "arr = np.zeros((5,5))\n",
    "np.fill_diagonal(arr,[1,2,3,4,5,6])\n",
    "print(arr)"
   ]
  },
  {
   "cell_type": "code",
   "execution_count": 54,
   "id": "0b05100d-2f77-4bb9-92d3-3f38749ec745",
   "metadata": {},
   "outputs": [
    {
     "name": "stdout",
     "output_type": "stream",
     "text": [
      "[12 15 18]\n"
     ]
    }
   ],
   "source": [
    "arr = np.array([[1,2,3],[4,5,6],[7,8,9]])\n",
    "print(np.sum(arr,axis=0))"
   ]
  },
  {
   "cell_type": "code",
   "execution_count": 58,
   "id": "f551f11b-a298-4a3a-85b3-23304cce4921",
   "metadata": {},
   "outputs": [
    {
     "name": "stdout",
     "output_type": "stream",
     "text": [
      "[[1 2 3]\n",
      " [4 5 6]\n",
      " [7 8 9]]\n"
     ]
    }
   ],
   "source": [
    "np.savetxt('array.txt',arr)\n",
    "print(np.loadtxt('array.txt').astype(np.int64))"
   ]
  },
  {
   "cell_type": "code",
   "execution_count": 17,
   "id": "cd8b3c51-3a79-4d6f-85ba-a13b13bf8a48",
   "metadata": {},
   "outputs": [
    {
     "name": "stdout",
     "output_type": "stream",
     "text": [
      "[[4 7 5]\n",
      " [8 7 3]\n",
      " [7 6 3]]\n",
      "[[7 6 3]\n",
      " [8 7 3]\n",
      " [4 7 5]]\n"
     ]
    }
   ],
   "source": [
    "arr = np.random.randint(0,10,size=(3,3))\n",
    "print(arr)\n",
    "\n",
    "arr[[0,2]] = arr[[2,0]]\n",
    "print(arr)"
   ]
  },
  {
   "cell_type": "code",
   "execution_count": 18,
   "id": "f908e853-cca5-48ba-b95e-e40185cf15ff",
   "metadata": {},
   "outputs": [
    {
     "name": "stdout",
     "output_type": "stream",
     "text": [
      "[ 6 14 24 36 50]\n"
     ]
    }
   ],
   "source": [
    "a = np.arange(1,6)\n",
    "b = np.arange(6,11)\n",
    "print(np.multiply(a,b))"
   ]
  }
 ],
 "metadata": {
  "kernelspec": {
   "display_name": "Python 3 (ipykernel)",
   "language": "python",
   "name": "python3"
  },
  "language_info": {
   "codemirror_mode": {
    "name": "ipython",
    "version": 3
   },
   "file_extension": ".py",
   "mimetype": "text/x-python",
   "name": "python",
   "nbconvert_exporter": "python",
   "pygments_lexer": "ipython3",
   "version": "3.10.8"
  }
 },
 "nbformat": 4,
 "nbformat_minor": 5
}
